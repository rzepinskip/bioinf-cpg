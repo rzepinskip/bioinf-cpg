{
 "cells": [
  {
   "cell_type": "markdown",
   "metadata": {},
   "source": [
    "## Author\n",
    "Paweł Rzepiński"
   ]
  },
  {
   "cell_type": "markdown",
   "metadata": {},
   "source": [
    "## Data"
   ]
  },
  {
   "cell_type": "code",
   "execution_count": 3,
   "metadata": {},
   "outputs": [
    {
     "name": "stdout",
     "output_type": "stream",
     "text": [
      "--2019-11-23 12:54:14--  http://hgdownload.cse.ucsc.edu/goldenpath/hg19/database/cpgIslandExt.txt.gz\n",
      "Resolving hgdownload.cse.ucsc.edu (hgdownload.cse.ucsc.edu)... 128.114.119.163\n",
      "Connecting to hgdownload.cse.ucsc.edu (hgdownload.cse.ucsc.edu)|128.114.119.163|:80... connected.\n",
      "HTTP request sent, awaiting response... 304 Not Modified\n",
      "File ‘data/cpgIslandExt.txt.gz’ not modified on server. Omitting download.\n",
      "\n",
      "--2019-11-23 12:54:15--  http://hgdownload.soe.ucsc.edu/goldenPath/hg19/encodeDCC/wgEncodeHaibMethyl450/wgEncodeHaibMethyl450A549Etoh02SitesRep1.bed.gz\n",
      "Resolving hgdownload.soe.ucsc.edu (hgdownload.soe.ucsc.edu)... 128.114.119.163\n",
      "Connecting to hgdownload.soe.ucsc.edu (hgdownload.soe.ucsc.edu)|128.114.119.163|:80... connected.\n",
      "HTTP request sent, awaiting response... 304 Not Modified\n",
      "File ‘data/wgEncodeHaibMethyl450A549Etoh02SitesRep1.bed.gz’ not modified on server. Omitting download.\n",
      "\n",
      "--2019-11-23 12:54:16--  http://hgdownload.cse.ucsc.edu/goldenPath/hg19/bigZips/hg19.chrom.sizes\n",
      "Resolving hgdownload.cse.ucsc.edu (hgdownload.cse.ucsc.edu)... 128.114.119.163\n",
      "Connecting to hgdownload.cse.ucsc.edu (hgdownload.cse.ucsc.edu)|128.114.119.163|:80... connected.\n",
      "HTTP request sent, awaiting response... 304 Not Modified\n",
      "File ‘data/hg19.chrom.sizes’ not modified on server. Omitting download.\n",
      "\n"
     ]
    }
   ],
   "source": [
    "!wget -N --directory-prefix=data/ http://hgdownload.cse.ucsc.edu/goldenpath/hg19/database/cpgIslandExt.txt.gz \n",
    "!wget -N --directory-prefix=data/ http://hgdownload.soe.ucsc.edu/goldenPath/hg19/encodeDCC/wgEncodeHaibMethyl450/wgEncodeHaibMethyl450A549Etoh02SitesRep1.bed.gz\n",
    "!wget -N --directory-prefix=data/ http://hgdownload.cse.ucsc.edu/goldenPath/hg19/bigZips/hg19.chrom.sizes"
   ]
  },
  {
   "cell_type": "markdown",
   "metadata": {},
   "source": [
    "## Imports"
   ]
  },
  {
   "cell_type": "code",
   "execution_count": 4,
   "metadata": {
    "scrolled": true
   },
   "outputs": [],
   "source": [
    "import pandas as pd\n",
    "import seaborn as sns\n",
    "import numpy as np\n",
    "import pybedtools # requires bedtools CLI - https://bedtools.readthedocs.io/en/latest/"
   ]
  },
  {
   "cell_type": "markdown",
   "metadata": {},
   "source": [
    "## HG19 sizes"
   ]
  },
  {
   "cell_type": "code",
   "execution_count": 5,
   "metadata": {},
   "outputs": [],
   "source": [
    "hg19_df = pd.read_csv(\"data/hg19.chrom.sizes\", sep=\"\\t\", header=None, names=[\"chr\", \"chr_size\"])"
   ]
  },
  {
   "cell_type": "code",
   "execution_count": 6,
   "metadata": {},
   "outputs": [],
   "source": [
    "# Only autosomalchromosomes: chr1 - ch22 \n",
    "autosomal = [f\"chr{i}\" for i in range(1, 23)]\n",
    "hg19_df = hg19_df[hg19_df.chr.isin(autosomal)]"
   ]
  },
  {
   "cell_type": "code",
   "execution_count": 7,
   "metadata": {},
   "outputs": [
    {
     "data": {
      "text/html": [
       "<div>\n",
       "<style scoped>\n",
       "    .dataframe tbody tr th:only-of-type {\n",
       "        vertical-align: middle;\n",
       "    }\n",
       "\n",
       "    .dataframe tbody tr th {\n",
       "        vertical-align: top;\n",
       "    }\n",
       "\n",
       "    .dataframe thead th {\n",
       "        text-align: right;\n",
       "    }\n",
       "</style>\n",
       "<table border=\"1\" class=\"dataframe\">\n",
       "  <thead>\n",
       "    <tr style=\"text-align: right;\">\n",
       "      <th></th>\n",
       "      <th>chr</th>\n",
       "      <th>chr_size</th>\n",
       "    </tr>\n",
       "  </thead>\n",
       "  <tbody>\n",
       "    <tr>\n",
       "      <th>0</th>\n",
       "      <td>chr1</td>\n",
       "      <td>249250621</td>\n",
       "    </tr>\n",
       "    <tr>\n",
       "      <th>10</th>\n",
       "      <td>chr10</td>\n",
       "      <td>135534747</td>\n",
       "    </tr>\n",
       "    <tr>\n",
       "      <th>11</th>\n",
       "      <td>chr11</td>\n",
       "      <td>135006516</td>\n",
       "    </tr>\n",
       "    <tr>\n",
       "      <th>12</th>\n",
       "      <td>chr12</td>\n",
       "      <td>133851895</td>\n",
       "    </tr>\n",
       "    <tr>\n",
       "      <th>13</th>\n",
       "      <td>chr13</td>\n",
       "      <td>115169878</td>\n",
       "    </tr>\n",
       "  </tbody>\n",
       "</table>\n",
       "</div>"
      ],
      "text/plain": [
       "      chr   chr_size\n",
       "0    chr1  249250621\n",
       "10  chr10  135534747\n",
       "11  chr11  135006516\n",
       "12  chr12  133851895\n",
       "13  chr13  115169878"
      ]
     },
     "execution_count": 7,
     "metadata": {},
     "output_type": "execute_result"
    }
   ],
   "source": [
    "# Ensure bedtools sort order\n",
    "hg19_df = hg19_df.sort_values(\"chr\")\n",
    "hg19_df.head()"
   ]
  },
  {
   "cell_type": "code",
   "execution_count": 8,
   "metadata": {},
   "outputs": [],
   "source": [
    "hg19_df.to_csv(\"data/hg19.chrom.sizes\", header=None, index=False, sep=\"\\t\")"
   ]
  },
  {
   "cell_type": "markdown",
   "metadata": {},
   "source": [
    "## CPG"
   ]
  },
  {
   "cell_type": "code",
   "execution_count": 9,
   "metadata": {},
   "outputs": [
    {
     "data": {
      "text/html": [
       "<div>\n",
       "<style scoped>\n",
       "    .dataframe tbody tr th:only-of-type {\n",
       "        vertical-align: middle;\n",
       "    }\n",
       "\n",
       "    .dataframe tbody tr th {\n",
       "        vertical-align: top;\n",
       "    }\n",
       "\n",
       "    .dataframe thead th {\n",
       "        text-align: right;\n",
       "    }\n",
       "</style>\n",
       "<table border=\"1\" class=\"dataframe\">\n",
       "  <thead>\n",
       "    <tr style=\"text-align: right;\">\n",
       "      <th></th>\n",
       "      <th>chr</th>\n",
       "      <th>start</th>\n",
       "      <th>end</th>\n",
       "    </tr>\n",
       "  </thead>\n",
       "  <tbody>\n",
       "    <tr>\n",
       "      <th>0</th>\n",
       "      <td>chr1</td>\n",
       "      <td>28735</td>\n",
       "      <td>29810</td>\n",
       "    </tr>\n",
       "    <tr>\n",
       "      <th>1</th>\n",
       "      <td>chr1</td>\n",
       "      <td>135124</td>\n",
       "      <td>135563</td>\n",
       "    </tr>\n",
       "    <tr>\n",
       "      <th>2</th>\n",
       "      <td>chr1</td>\n",
       "      <td>327790</td>\n",
       "      <td>328229</td>\n",
       "    </tr>\n",
       "    <tr>\n",
       "      <th>3</th>\n",
       "      <td>chr1</td>\n",
       "      <td>437151</td>\n",
       "      <td>438164</td>\n",
       "    </tr>\n",
       "    <tr>\n",
       "      <th>4</th>\n",
       "      <td>chr1</td>\n",
       "      <td>449273</td>\n",
       "      <td>450544</td>\n",
       "    </tr>\n",
       "  </tbody>\n",
       "</table>\n",
       "</div>"
      ],
      "text/plain": [
       "    chr   start     end\n",
       "0  chr1   28735   29810\n",
       "1  chr1  135124  135563\n",
       "2  chr1  327790  328229\n",
       "3  chr1  437151  438164\n",
       "4  chr1  449273  450544"
      ]
     },
     "execution_count": 9,
     "metadata": {},
     "output_type": "execute_result"
    }
   ],
   "source": [
    "cpg_colnames = [\"chr\", \"start\", \"end\"]\n",
    "cpg_df = pybedtools.BedTool(\"data/cpgIslandExt.txt.gz\").to_dataframe(header=None, usecols=range(1, 4), names=cpg_colnames)\n",
    "cpg_df.head()"
   ]
  },
  {
   "cell_type": "code",
   "execution_count": 10,
   "metadata": {
    "scrolled": true
   },
   "outputs": [],
   "source": [
    "# Only autosomalchromosomes: chr1 - ch22 \n",
    "autosomal = [f\"chr{i}\" for i in range(1, 23)]\n",
    "cpg_df = cpg_df[cpg_df.chr.isin(autosomal)]"
   ]
  },
  {
   "cell_type": "code",
   "execution_count": 11,
   "metadata": {
    "scrolled": true
   },
   "outputs": [],
   "source": [
    "cpg = pybedtools.BedTool.from_dataframe(cpg_df).sort()\n",
    "genome = 'data/hg19.chrom.sizes'\n",
    "flank_size = 2000"
   ]
  },
  {
   "cell_type": "code",
   "execution_count": 12,
   "metadata": {
    "scrolled": true
   },
   "outputs": [
    {
     "name": "stdout",
     "output_type": "stream",
     "text": [
      "chr1\t28735\t29810\n",
      " chr1\t135124\t135563\n",
      " chr1\t327790\t328229\n",
      " chr1\t437151\t438164\n",
      " chr1\t449273\t450544\n",
      " chr1\t533219\t534114\n",
      " chr1\t544738\t546649\n",
      " chr1\t713984\t714547\n",
      " chr1\t762416\t763445\n",
      " chr1\t788863\t789211\n",
      " None\n"
     ]
    }
   ],
   "source": [
    "cpg.saveas('cpg.bed')\n",
    "print(cpg.head())"
   ]
  },
  {
   "cell_type": "code",
   "execution_count": 13,
   "metadata": {
    "scrolled": false
   },
   "outputs": [
    {
     "name": "stdout",
     "output_type": "stream",
     "text": [
      "chr1\t26735\t28735\n",
      " chr1\t29810\t31810\n",
      " chr1\t133124\t135124\n",
      " chr1\t135563\t137563\n",
      " chr1\t325790\t327790\n",
      " chr1\t328229\t330229\n",
      " chr1\t435151\t437151\n",
      " chr1\t438164\t440164\n",
      " chr1\t447273\t449273\n",
      " chr1\t450544\t452544\n",
      " None\n"
     ]
    }
   ],
   "source": [
    "shores = cpg.flank(g=genome, b=flank_size).subtract(cpg).sort().merge()\n",
    "shores.saveas('shores.bed')\n",
    "print(shores.head())"
   ]
  },
  {
   "cell_type": "code",
   "execution_count": 14,
   "metadata": {
    "scrolled": true
   },
   "outputs": [
    {
     "name": "stdout",
     "output_type": "stream",
     "text": [
      "chr1\t24735\t26735\n",
      " chr1\t31810\t33810\n",
      " chr1\t131124\t133124\n",
      " chr1\t137563\t139563\n",
      " chr1\t323790\t325790\n",
      " chr1\t330229\t332229\n",
      " chr1\t433151\t435151\n",
      " chr1\t440164\t442164\n",
      " chr1\t445273\t447273\n",
      " chr1\t452544\t454544\n",
      " None\n"
     ]
    }
   ],
   "source": [
    "shelves = cpg.slop(g=genome, b=flank_size).flank(g=genome, b=flank_size).subtract(shores).subtract(cpg).sort().merge()\n",
    "shelves.saveas('shelves.bed')\n",
    "print(shelves.head())"
   ]
  },
  {
   "cell_type": "code",
   "execution_count": 15,
   "metadata": {},
   "outputs": [
    {
     "name": "stdout",
     "output_type": "stream",
     "text": [
      "chr1\t0\t24735\n",
      " chr1\t33810\t131124\n",
      " chr1\t139563\t323790\n",
      " chr1\t332229\t433151\n",
      " chr1\t442164\t445273\n",
      " chr1\t454544\t529219\n",
      " chr1\t538114\t540738\n",
      " chr1\t550649\t709984\n",
      " chr1\t718547\t758416\n",
      " chr1\t767445\t784863\n",
      " None\n"
     ]
    }
   ],
   "source": [
    "seas = cpg.slop(g=genome, b=2*flank_size).merge().complement(g=genome).sort()\n",
    "seas.saveas('seas.bed')\n",
    "print(seas.head())"
   ]
  },
  {
   "cell_type": "markdown",
   "metadata": {},
   "source": [
    "## Methylations"
   ]
  },
  {
   "cell_type": "code",
   "execution_count": 16,
   "metadata": {},
   "outputs": [
    {
     "data": {
      "text/html": [
       "<div>\n",
       "<style scoped>\n",
       "    .dataframe tbody tr th:only-of-type {\n",
       "        vertical-align: middle;\n",
       "    }\n",
       "\n",
       "    .dataframe tbody tr th {\n",
       "        vertical-align: top;\n",
       "    }\n",
       "\n",
       "    .dataframe thead th {\n",
       "        text-align: right;\n",
       "    }\n",
       "</style>\n",
       "<table border=\"1\" class=\"dataframe\">\n",
       "  <thead>\n",
       "    <tr style=\"text-align: right;\">\n",
       "      <th></th>\n",
       "      <th>chr</th>\n",
       "      <th>start</th>\n",
       "      <th>end</th>\n",
       "    </tr>\n",
       "  </thead>\n",
       "  <tbody>\n",
       "    <tr>\n",
       "      <th>0</th>\n",
       "      <td>chr1</td>\n",
       "      <td>15865</td>\n",
       "      <td>15915</td>\n",
       "    </tr>\n",
       "    <tr>\n",
       "      <th>1</th>\n",
       "      <td>chr1</td>\n",
       "      <td>18827</td>\n",
       "      <td>18877</td>\n",
       "    </tr>\n",
       "    <tr>\n",
       "      <th>2</th>\n",
       "      <td>chr1</td>\n",
       "      <td>29407</td>\n",
       "      <td>29457</td>\n",
       "    </tr>\n",
       "    <tr>\n",
       "      <th>3</th>\n",
       "      <td>chr1</td>\n",
       "      <td>29425</td>\n",
       "      <td>29475</td>\n",
       "    </tr>\n",
       "    <tr>\n",
       "      <th>4</th>\n",
       "      <td>chr1</td>\n",
       "      <td>29435</td>\n",
       "      <td>29485</td>\n",
       "    </tr>\n",
       "  </tbody>\n",
       "</table>\n",
       "</div>"
      ],
      "text/plain": [
       "    chr  start    end\n",
       "0  chr1  15865  15915\n",
       "1  chr1  18827  18877\n",
       "2  chr1  29407  29457\n",
       "3  chr1  29425  29475\n",
       "4  chr1  29435  29485"
      ]
     },
     "execution_count": 16,
     "metadata": {},
     "output_type": "execute_result"
    }
   ],
   "source": [
    "meth_colnames = [\"chr\", \"start\", \"end\"]\n",
    "meth_raw = pybedtools.BedTool(\"data/wgEncodeHaibMethyl450A549Etoh02SitesRep1.bed.gz\").sort()\n",
    "meth_df = meth_raw.to_dataframe(header=None, usecols=range(0, 3), names=meth_colnames)\n",
    "meth_df.head()"
   ]
  },
  {
   "cell_type": "code",
   "execution_count": 17,
   "metadata": {},
   "outputs": [
    {
     "data": {
      "text/html": [
       "<div>\n",
       "<style scoped>\n",
       "    .dataframe tbody tr th:only-of-type {\n",
       "        vertical-align: middle;\n",
       "    }\n",
       "\n",
       "    .dataframe tbody tr th {\n",
       "        vertical-align: top;\n",
       "    }\n",
       "\n",
       "    .dataframe thead th {\n",
       "        text-align: right;\n",
       "    }\n",
       "</style>\n",
       "<table border=\"1\" class=\"dataframe\">\n",
       "  <thead>\n",
       "    <tr style=\"text-align: right;\">\n",
       "      <th></th>\n",
       "      <th>chr</th>\n",
       "      <th>start</th>\n",
       "      <th>end</th>\n",
       "    </tr>\n",
       "  </thead>\n",
       "  <tbody>\n",
       "    <tr>\n",
       "      <th>0</th>\n",
       "      <td>chr1</td>\n",
       "      <td>15890</td>\n",
       "      <td>15891</td>\n",
       "    </tr>\n",
       "    <tr>\n",
       "      <th>1</th>\n",
       "      <td>chr1</td>\n",
       "      <td>18852</td>\n",
       "      <td>18853</td>\n",
       "    </tr>\n",
       "    <tr>\n",
       "      <th>2</th>\n",
       "      <td>chr1</td>\n",
       "      <td>29432</td>\n",
       "      <td>29433</td>\n",
       "    </tr>\n",
       "    <tr>\n",
       "      <th>3</th>\n",
       "      <td>chr1</td>\n",
       "      <td>29450</td>\n",
       "      <td>29451</td>\n",
       "    </tr>\n",
       "    <tr>\n",
       "      <th>4</th>\n",
       "      <td>chr1</td>\n",
       "      <td>29460</td>\n",
       "      <td>29461</td>\n",
       "    </tr>\n",
       "  </tbody>\n",
       "</table>\n",
       "</div>"
      ],
      "text/plain": [
       "    chr  start    end\n",
       "0  chr1  15890  15891\n",
       "1  chr1  18852  18853\n",
       "2  chr1  29432  29433\n",
       "3  chr1  29450  29451\n",
       "4  chr1  29460  29461"
      ]
     },
     "execution_count": 17,
     "metadata": {},
     "output_type": "execute_result"
    }
   ],
   "source": [
    "meth_df[\"start\"] = (meth_df.start + (meth_df.end - meth_df.start)/2).astype(int)\n",
    "meth_df[\"end\"] = meth_df.start + 1\n",
    "meth_df.head()"
   ]
  },
  {
   "cell_type": "code",
   "execution_count": 18,
   "metadata": {
    "scrolled": true
   },
   "outputs": [],
   "source": [
    "# Only autosomalchromosomes: chr1 - ch22 \n",
    "meth_df = meth_df[meth_df.chr.isin(autosomal)]"
   ]
  },
  {
   "cell_type": "code",
   "execution_count": 19,
   "metadata": {
    "scrolled": true
   },
   "outputs": [],
   "source": [
    "meth = pybedtools.BedTool.from_dataframe(meth_df)"
   ]
  },
  {
   "cell_type": "code",
   "execution_count": 20,
   "metadata": {
    "scrolled": true
   },
   "outputs": [],
   "source": [
    "plot_data = list()\n",
    "for region_name, region in zip([\"cpg\", \"shores\", \"shelves\", \"seas\"], [cpg, shores, shelves, seas]):\n",
    "    intersection = meth.intersect(b=region,u=True)\n",
    "    hits = len(intersection)\n",
    "    plot_data += [(region_name, hits)]"
   ]
  },
  {
   "cell_type": "code",
   "execution_count": 21,
   "metadata": {
    "scrolled": true
   },
   "outputs": [
    {
     "data": {
      "text/html": [
       "<div>\n",
       "<style scoped>\n",
       "    .dataframe tbody tr th:only-of-type {\n",
       "        vertical-align: middle;\n",
       "    }\n",
       "\n",
       "    .dataframe tbody tr th {\n",
       "        vertical-align: top;\n",
       "    }\n",
       "\n",
       "    .dataframe thead th {\n",
       "        text-align: right;\n",
       "    }\n",
       "</style>\n",
       "<table border=\"1\" class=\"dataframe\">\n",
       "  <thead>\n",
       "    <tr style=\"text-align: right;\">\n",
       "      <th></th>\n",
       "      <th>region_name</th>\n",
       "      <th>hits</th>\n",
       "      <th>percentage</th>\n",
       "    </tr>\n",
       "  </thead>\n",
       "  <tbody>\n",
       "    <tr>\n",
       "      <th>0</th>\n",
       "      <td>cpg</td>\n",
       "      <td>132094</td>\n",
       "      <td>0.280532</td>\n",
       "    </tr>\n",
       "    <tr>\n",
       "      <th>1</th>\n",
       "      <td>shores</td>\n",
       "      <td>122913</td>\n",
       "      <td>0.261034</td>\n",
       "    </tr>\n",
       "    <tr>\n",
       "      <th>2</th>\n",
       "      <td>shelves</td>\n",
       "      <td>45457</td>\n",
       "      <td>0.096538</td>\n",
       "    </tr>\n",
       "    <tr>\n",
       "      <th>3</th>\n",
       "      <td>seas</td>\n",
       "      <td>170406</td>\n",
       "      <td>0.361896</td>\n",
       "    </tr>\n",
       "  </tbody>\n",
       "</table>\n",
       "</div>"
      ],
      "text/plain": [
       "  region_name    hits  percentage\n",
       "0         cpg  132094    0.280532\n",
       "1      shores  122913    0.261034\n",
       "2     shelves   45457    0.096538\n",
       "3        seas  170406    0.361896"
      ]
     },
     "execution_count": 21,
     "metadata": {},
     "output_type": "execute_result"
    }
   ],
   "source": [
    "plot_df = pd.DataFrame(plot_data, columns=[\"region_name\", \"hits\"])\n",
    "plot_df[\"percentage\"] = plot_df.hits / sum(plot_df.hits)\n",
    "plot_df"
   ]
  },
  {
   "cell_type": "code",
   "execution_count": 22,
   "metadata": {},
   "outputs": [],
   "source": [
    "# Check if all and not more meth entries have assignment\n",
    "assert sum(plot_df.hits) == len(meth_df)"
   ]
  },
  {
   "cell_type": "code",
   "execution_count": 23,
   "metadata": {
    "scrolled": true
   },
   "outputs": [
    {
     "data": {
      "image/png": "[encoded data removed]",
      "text/plain": [
       "<Figure size 432x288 with 1 Axes>"
      ]
     },
     "metadata": {},
     "output_type": "display_data"
    }
   ],
   "source": [
    "sns.set(style=\"darkgrid\")\n",
    "g = sns.barplot(x=\"region_name\", y=\"hits\", data=plot_df)\n",
    "g.set(xlabel='region', ylabel='hits')\n",
    "for index, row in plot_df.iterrows():\n",
    "    g.text(row.name, row.hits, f\"{round(row.percentage,2):0.2f}\", color='black', ha=\"center\")"
   ]
  }
 ],
 "metadata": {
  "kernelspec": {
   "display_name": "Python 3",
   "language": "python",
   "name": "python3"
  },
  "language_info": {
   "codemirror_mode": {
    "name": "ipython",
    "version": 3
   },
   "file_extension": ".py",
   "mimetype": "text/x-python",
   "name": "python",
   "nbconvert_exporter": "python",
   "pygments_lexer": "ipython3",
   "version": "3.7.3"
  }
 },
 "nbformat": 4,
 "nbformat_minor": 2
}
